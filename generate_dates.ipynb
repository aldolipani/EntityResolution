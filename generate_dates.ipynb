{
 "cells": [
  {
   "cell_type": "code",
   "execution_count": 6,
   "metadata": {},
   "outputs": [],
   "source": [
    "import numpy as np\n",
    "from tqdm.notebook import tqdm"
   ]
  },
  {
   "cell_type": "code",
   "execution_count": 2,
   "metadata": {},
   "outputs": [],
   "source": [
    "DATA_SEPS = ['/', '.', ' ']\n",
    "MONTHS = ['January', 'February', 'March', 'April', 'May', 'June', 'July', 'August', 'September', 'October', 'November', 'December']\n",
    "\n",
    "class RandomDate:\n",
    "    \n",
    "    def __init__(self, sep='/'):\n",
    "        self.year = 0\n",
    "        self.month = 0\n",
    "        self.day = 0\n",
    "        self.sep = sep\n",
    "    \n",
    "    def generate(self):\n",
    "        self.year = np.random.randint(low=1970, high=2051)\n",
    "        self.month = np.random.randint(low=1, high=13)\n",
    "        self.day = np.random.randint(low=1,high=31)\n",
    "    \n",
    "    def get_normalized(self):\n",
    "        return str(self.day) + self.sep + str(self.month) + self.sep + str(self.year)\n",
    "\n",
    "    def get_equivalent(self):        \n",
    "        n = np.random.randint(low=0, high=4)\n",
    "        if n == 0: # other separator\n",
    "            sep = np.random.choice(DATA_SEPS)[0]\n",
    "            return str(self.day) + sep + str(self.month) + sep + str(self.year)\n",
    "        elif n == 1: # add zeros if needed\n",
    "            return str(self.day).zfill(2) + self.sep + str(self.month).zfill(2) + self.sep + str(self.year)\n",
    "        elif n == 2: # use two digits for year\n",
    "            return str(self.day) + self.sep + str(self.month) + self.sep + str(self.year)[2:4]\n",
    "        elif n == 3: # substitute month number with string\n",
    "            return str(self.day) + ' ' + MONTHS[self.month - 1] + ' ' + str(self.year)"
   ]
  },
  {
   "cell_type": "code",
   "execution_count": 4,
   "metadata": {},
   "outputs": [
    {
     "data": {
      "application/vnd.jupyter.widget-view+json": {
       "model_id": "f2bc8e1e55f14f048910d0cb2c5005c6",
       "version_major": 2,
       "version_minor": 0
      },
      "text/plain": [
       "HBox(children=(IntProgress(value=0, max=10000000), HTML(value='')))"
      ]
     },
     "metadata": {},
     "output_type": "display_data"
    },
    {
     "name": "stdout",
     "output_type": "stream",
     "text": [
      "\n"
     ]
    }
   ],
   "source": []
  },
  {
   "cell_type": "code",
   "execution_count": 9,
   "metadata": {},
   "outputs": [
    {
     "data": {
      "text/plain": [
       "array([False,  True])"
      ]
     },
     "execution_count": 9,
     "metadata": {},
     "output_type": "execute_result"
    }
   ],
   "source": [
    "np.array([0.4, 0.6]) > 0.5"
   ]
  },
  {
   "cell_type": "code",
   "execution_count": null,
   "metadata": {},
   "outputs": [],
   "source": []
  }
 ],
 "metadata": {
  "kernelspec": {
   "display_name": "Python 3",
   "language": "python",
   "name": "python3"
  },
  "language_info": {
   "codemirror_mode": {
    "name": "ipython",
    "version": 3
   },
   "file_extension": ".py",
   "mimetype": "text/x-python",
   "name": "python",
   "nbconvert_exporter": "python",
   "pygments_lexer": "ipython3",
   "version": "3.7.4"
  },
  "pycharm": {
   "stem_cell": {
    "cell_type": "raw",
    "source": [],
    "metadata": {
     "collapsed": false
    }
   }
  }
 },
 "nbformat": 4,
 "nbformat_minor": 4
}