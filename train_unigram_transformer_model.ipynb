{
 "cells": [
  {
   "cell_type": "code",
   "execution_count": 1,
   "metadata": {},
   "outputs": [],
   "source": [
    "import math\n",
    "import random\n",
    "import pickle\n",
    "import numpy as np\n",
    "import torch\n",
    "import torch.nn as nn\n",
    "import torch.utils.data as data_utils\n",
    "from tqdm.notebook import tqdm\n",
    "from livelossplot import PlotLosses"
   ]
  },
  {
   "cell_type": "code",
   "execution_count": 2,
   "metadata": {},
   "outputs": [
    {
     "name": "stdout",
     "output_type": "stream",
     "text": [
      "number of selected true labels 200000\n"
     ]
    }
   ],
   "source": [
    "labels = {}\n",
    "with open('/tmp/pycharm_project_856/data/dataset.tsv', 'r') as f:\n",
    "    for n, line in enumerate(f.readlines()):\n",
    "        items = line.split('\\t')\n",
    "        entity1 = items[0].strip()\n",
    "        entity2 = items[1].strip()\n",
    "        if entity1 not in labels:\n",
    "            labels[entity1] = set()\n",
    "        labels[entity1].add(entity2)\n",
    "        if entity2 not in labels:\n",
    "            labels[entity2] = set()\n",
    "        labels[entity2].add(entity1)\n",
    "        if len(labels) >= 200000:\n",
    "            break\n",
    "            \n",
    "print('number of selected true labels', len(labels))"
   ]
  },
  {
   "cell_type": "code",
   "execution_count": 3,
   "metadata": {},
   "outputs": [
    {
     "name": "stdout",
     "output_type": "stream",
     "text": [
      "num of characters 41\n",
      "detected max len 68\n",
      "max len set to 70\n"
     ]
    }
   ],
   "source": [
    "max_len = 0\n",
    "characters = set()\n",
    "\n",
    "for normal, variants in labels.items():\n",
    "    for variant in variants:\n",
    "        characters.update(normal)\n",
    "        characters.update(variant)\n",
    "        if len(normal) > max_len:\n",
    "            max_len = len(normal)\n",
    "        if len(variant) > max_len:\n",
    "            max_len = len(variant)\n",
    "        \n",
    "print('num of characters', len(characters))\n",
    "\n",
    "characters.update(['[unk]', '[cls]', '[sep]', '[pad]'])\n",
    "max_len *= 2 + 2\n",
    "\n",
    "print('detected max len', max_len)\n",
    "max_len = 70\n",
    "print('max len set to', max_len)\n",
    "\n",
    "num_embeddings = len(characters)"
   ]
  },
  {
   "cell_type": "code",
   "execution_count": 4,
   "metadata": {},
   "outputs": [
    {
     "data": {
      "text/plain": [
       "{'|': 0,\n",
       " 'r': 1,\n",
       " 'A': 2,\n",
       " 'O': 3,\n",
       " 'm': 4,\n",
       " '[pad]': 5,\n",
       " 't': 6,\n",
       " '[unk]': 7,\n",
       " 'h': 8,\n",
       " 'l': 9,\n",
       " 'J': 10,\n",
       " '3': 11,\n",
       " '0': 12,\n",
       " '9': 13,\n",
       " '[cls]': 14,\n",
       " '[sep]': 15,\n",
       " '2': 16,\n",
       " 'n': 17,\n",
       " '8': 18,\n",
       " '6': 19,\n",
       " '4': 20,\n",
       " 'p': 21,\n",
       " ' ': 22,\n",
       " '7': 23,\n",
       " 'a': 24,\n",
       " 'F': 25,\n",
       " 'I': 26,\n",
       " 'N': 27,\n",
       " '/': 28,\n",
       " 'u': 29,\n",
       " 'c': 30,\n",
       " 'M': 31,\n",
       " 'i': 32,\n",
       " '5': 33,\n",
       " '1': 34,\n",
       " 'v': 35,\n",
       " 'D': 36,\n",
       " 's': 37,\n",
       " 'y': 38,\n",
       " 'b': 39,\n",
       " 'o': 40,\n",
       " 'e': 41,\n",
       " 'S': 42,\n",
       " 'g': 43,\n",
       " '.': 44}"
      ]
     },
     "execution_count": 4,
     "metadata": {},
     "output_type": "execute_result"
    }
   ],
   "source": [
    "character_to_idx = {}\n",
    "\n",
    "for idx, character in enumerate(characters):\n",
    "    character_to_idx[character] = idx    \n",
    "\n",
    "with open(\"./models/character_to_idx.dat\", \"wb\") as f:\n",
    "    pickle.dump(character_to_idx, f)\n",
    "\n",
    "character_to_idx"
   ]
  },
  {
   "cell_type": "code",
   "execution_count": 5,
   "metadata": {},
   "outputs": [
    {
     "name": "stdout",
     "output_type": "stream",
     "text": [
      "generating positive labels\n"
     ]
    },
    {
     "data": {
      "application/vnd.jupyter.widget-view+json": {
       "model_id": "63bce569aa3e4dd5a1ea36071461ed42",
       "version_major": 2,
       "version_minor": 0
      },
      "text/plain": [
       "HBox(children=(IntProgress(value=0, max=200000), HTML(value='')))"
      ]
     },
     "metadata": {},
     "output_type": "display_data"
    },
    {
     "name": "stdout",
     "output_type": "stream",
     "text": [
      "\n",
      "generating negative labels\n"
     ]
    },
    {
     "data": {
      "application/vnd.jupyter.widget-view+json": {
       "model_id": "2a0a4076b136406fb58a97a702d3a801",
       "version_major": 2,
       "version_minor": 0
      },
      "text/plain": [
       "HBox(children=(IntProgress(value=0, max=200000), HTML(value='')))"
      ]
     },
     "metadata": {},
     "output_type": "display_data"
    },
    {
     "name": "stdout",
     "output_type": "stream",
     "text": [
      "\n",
      "splitting the dataset into 80% training and 20% validation\n"
     ]
    }
   ],
   "source": [
    "train_x = []\n",
    "train_y = []\n",
    "valid_x = []\n",
    "valid_y = []\n",
    "\n",
    "def to_idxs(string):\n",
    "    res = []\n",
    "    for character in string:\n",
    "        if character in character_to_idx:\n",
    "            res.append(character_to_idx[character])\n",
    "        else:\n",
    "            res.append(character_to_idx['[unk]'])\n",
    "    return res;\n",
    "\n",
    "def get_x(entity1, entity2):\n",
    "    x = [character_to_idx['[cls]']]\n",
    "    x += to_idxs(entity1)\n",
    "    x += [character_to_idx['[sep]']]\n",
    "    x += to_idxs(entity2)\n",
    "    return x\n",
    "\n",
    "def add_padding(x):\n",
    "    x += [character_to_idx['[pad]']] * (max_len - len(x))\n",
    "    return x\n",
    "\n",
    "# positive examples\n",
    "print('generating positive labels')\n",
    "for entity, variants in tqdm(labels.items()):\n",
    "    for variant in variants:\n",
    "        x = get_x(entity, variant)\n",
    "        x = add_padding(x)\n",
    "        train_x.append(x)\n",
    "        train_y.append(1)\n",
    "\n",
    "# negative examples\n",
    "print('generating negative labels')\n",
    "all_strings = list(labels.keys())\n",
    "for entity, variants in labels.items():\n",
    "    for variant in variants:\n",
    "        all_strings.append(variant)\n",
    "np.random.shuffle(all_strings)\n",
    "\n",
    "all_strings_i = 0\n",
    "for n, (entity, variants) in tqdm(enumerate(labels.items()), total=len(labels)):\n",
    "    # this could be improved, by chance we may end up with a positive label marked negative\n",
    "    for variant in all_strings[all_strings_i:all_strings_i + len(variants)]:\n",
    "        x = get_x(entity, variant)\n",
    "        x = add_padding(x)\n",
    "        train_x.append(x)\n",
    "        train_y.append(0)\n",
    "    all_strings_i += len(variants)\n",
    "        \n",
    "print('splitting the dataset into 80% training and 20% validation')\n",
    "train_xy = list(zip(train_x, train_y))\n",
    "np.random.shuffle(train_xy)\n",
    "train_x, train_y = zip(*train_xy)\n",
    "\n",
    "split = int(len(train_x)*0.2)\n",
    "valid_x, train_x = train_x[:split], train_x[split:]\n",
    "valid_y, train_y = train_y[:split], train_y[split:]"
   ]
  },
  {
   "cell_type": "code",
   "execution_count": 6,
   "metadata": {},
   "outputs": [
    {
     "data": {
      "text/plain": [
       "(679704, 679704, 169926, 169926)"
      ]
     },
     "execution_count": 6,
     "metadata": {},
     "output_type": "execute_result"
    }
   ],
   "source": [
    "len(train_x), len(train_y), len(valid_x), len(valid_y)"
   ]
  },
  {
   "cell_type": "code",
   "execution_count": 7,
   "metadata": {},
   "outputs": [],
   "source": [
    "all_train_x = torch.tensor(train_x, dtype=torch.long)\n",
    "all_train_y = torch.tensor(train_y, dtype=torch.long)\n",
    "all_valid_x = torch.tensor(valid_x, dtype=torch.long)\n",
    "all_valid_y = torch.tensor(valid_y, dtype=torch.long)"
   ]
  },
  {
   "cell_type": "code",
   "execution_count": 8,
   "metadata": {},
   "outputs": [
    {
     "data": {
      "text/plain": [
       "(torch.Size([679704, 70]),\n",
       " torch.Size([679704]),\n",
       " torch.Size([169926, 70]),\n",
       " torch.Size([169926]))"
      ]
     },
     "execution_count": 8,
     "metadata": {},
     "output_type": "execute_result"
    }
   ],
   "source": [
    "all_train_x.shape, all_train_y.shape, all_valid_x.shape, all_valid_y.shape"
   ]
  },
  {
   "cell_type": "code",
   "execution_count": 9,
   "metadata": {},
   "outputs": [],
   "source": [
    "batch_size = 512+128\n",
    "\n",
    "train_set = data_utils.TensorDataset(all_train_x, all_train_y)\n",
    "train_loader = data_utils.DataLoader(train_set, batch_size = batch_size, shuffle=True)\n",
    "\n",
    "valid_set = data_utils.TensorDataset(all_valid_x, all_valid_y)\n",
    "valid_loader = data_utils.DataLoader(valid_set, batch_size = batch_size, shuffle=False)"
   ]
  },
  {
   "cell_type": "code",
   "execution_count": 10,
   "metadata": {},
   "outputs": [],
   "source": [
    "class PositionalEncoding:\n",
    "    \n",
    "    def __init__(self, embedding_dim, max_len=100):\n",
    "        self.pe = torch.zeros(max_len, embedding_dim)\n",
    "        position = torch.arange(0, max_len, dtype=torch.float).unsqueeze(1)\n",
    "        div_term = torch.exp(torch.arange(0, embedding_dim, 2).float() * (-math.log(10000.0) / embedding_dim))\n",
    "        self.pe[:, 0::2] = torch.sin(position * div_term)\n",
    "        self.pe[:, 1::2] = torch.cos(position * div_term)\n",
    "        self.pe = self.pe.to(device)\n",
    "        \n",
    "    def encode(self, x):\n",
    "        return x + self.pe"
   ]
  },
  {
   "cell_type": "code",
   "execution_count": 11,
   "metadata": {},
   "outputs": [],
   "source": [
    "class Model(nn.Module):\n",
    "    \n",
    "    def __init__(self, \n",
    "                 num_embeddings, \n",
    "                 embedding_dim, \n",
    "                 nhead=12, num_layers=3, dim_feedforward=1024, max_len=100):\n",
    "        super().__init__()\n",
    "        self.embedding_dim = embedding_dim\n",
    "        self.embed = nn.Embedding(num_embeddings, embedding_dim)\n",
    "        self.pos_encoder = PositionalEncoding(embedding_dim, max_len)\n",
    "        self.transformer_encoder = nn.TransformerEncoder(\n",
    "            nn.TransformerEncoderLayer(embedding_dim, nhead, dim_feedforward, activation='gelu'), num_layers)\n",
    "        self.fc1 = nn.Linear(embedding_dim*max_len, (int) (embedding_dim/2))\n",
    "        self.fc2 = nn.Linear((int) (embedding_dim/2), 2)\n",
    "        self.criterion = nn.CrossEntropyLoss()\n",
    "    \n",
    "    def forward(self, x, y=None):\n",
    "        y_pred = self.embed(x)\n",
    "        y_pred = self.pos_encoder.encode(y_pred) * math.sqrt(self.embedding_dim)  \n",
    "        y_pred = self.transformer_encoder(y_pred)\n",
    "        y_pred = y_pred.reshape((y_pred.shape[0], -1))\n",
    "        y_pred = self.fc1(y_pred)\n",
    "        y_pred = self.fc2(y_pred)\n",
    "        if y is None:\n",
    "            y_pred = nn.functional.softmax(y_pred, dim=1)[:, 1]\n",
    "            return y_pred\n",
    "        else:\n",
    "            return self.criterion(y_pred, y), y_pred"
   ]
  },
  {
   "cell_type": "code",
   "execution_count": 12,
   "metadata": {},
   "outputs": [],
   "source": [
    "device = torch.device(\"cuda:0\" if torch.cuda.is_available() else \"cpu\")"
   ]
  },
  {
   "cell_type": "code",
   "execution_count": 13,
   "metadata": {},
   "outputs": [],
   "source": [
    "model = Model(num_embeddings, 192, max_len=max_len)\n",
    "model = model.to(device)"
   ]
  },
  {
   "cell_type": "code",
   "execution_count": 14,
   "metadata": {},
   "outputs": [],
   "source": [
    "optimizer = torch.optim.Adam(model.parameters(), lr=1e-4)"
   ]
  },
  {
   "cell_type": "code",
   "execution_count": 15,
   "metadata": {},
   "outputs": [],
   "source": [
    "def save_model(model):\n",
    "    torch.save(model.state_dict(), './models/unigram_transformer.dat')"
   ]
  },
  {
   "cell_type": "code",
   "execution_count": 16,
   "metadata": {},
   "outputs": [],
   "source": [
    "liveloss = PlotLosses()"
   ]
  },
  {
   "cell_type": "code",
   "execution_count": 17,
   "metadata": {
    "collapsed": false,
    "jupyter": {
     "outputs_hidden": false
    },
    "pycharm": {
     "name": "#%%\n"
    }
   },
   "outputs": [
    {
     "data": {
      "image/png": "[encoded data removed]",
      "text/plain": [
       "<Figure size 864x864 with 3 Axes>"
      ]
     },
     "metadata": {
      "needs_background": "light"
     },
     "output_type": "display_data"
    },
    {
     "name": "stdout",
     "output_type": "stream",
     "text": [
      "accuracy\n",
      "\ttraining         \t (min:    0.628, max:    0.663, cur:    0.663)\n",
      "\tvalidation       \t (min:    0.589, max:    0.670, cur:    0.666)\n",
      "Loss\n",
      "\ttraining         \t (min:    0.593, max:    0.631, cur:    0.593)\n",
      "\tvalidation       \t (min:    0.592, max:    0.631, cur:    0.595)\n",
      "Mean Squared Error\n",
      "\ttraining         \t (min:    0.208, max:    0.222, cur:    0.208)\n",
      "\tvalidation       \t (min:    0.207, max:    0.226, cur:    0.208)\n"
     ]
    }
   ],
   "source": [
    "data_loader = {'train':train_loader, 'valid':valid_loader}\n",
    "\n",
    "current_valid_loss = 1.0\n",
    "n_without_changing = 0\n",
    "logs = {}\n",
    "for epoch in range(200):\n",
    "    \n",
    "    for phase in ['train', 'valid']:\n",
    "        if phase == 'train':\n",
    "            model.train()\n",
    "        else:\n",
    "            model.eval()\n",
    "        \n",
    "        prefix = ''\n",
    "        if phase == 'valid':\n",
    "            prefix = 'val_'\n",
    "            \n",
    "        epoch_loss = 0.0\n",
    "        epoch_corrects = 0\n",
    "        epoch_se = 0.0\n",
    "        for i, batch in tqdm(enumerate(data_loader[phase]), total=len(data_loader[phase].dataset) // batch_size):\n",
    "            batch = [item.to(device) for item in batch]\n",
    "            inputs, labels = batch\n",
    "            # zero the parameter gradients\n",
    "            if phase == 'train':\n",
    "                optimizer.zero_grad()\n",
    "\n",
    "            # forward + backward + optimize\n",
    "            if phase == 'train':\n",
    "                loss, output = model(inputs, labels)\n",
    "                loss.backward()\n",
    "                optimizer.step()\n",
    "            else:\n",
    "                with torch.no_grad():\n",
    "                    loss, output = model(inputs, labels)\n",
    "\n",
    "            # print statistics\n",
    "            loss = loss.cpu().detach()\n",
    "            output = output.cpu().detach()\n",
    "            labels = labels.cpu().detach()\n",
    "            epoch_loss += loss.item() * inputs.size(0)\n",
    "            epoch_corrects += torch.sum(torch.max(output, 1)[1] == labels)\n",
    "            epoch_se += torch.sum((nn.functional.softmax(output, dim=1)[:, 1] - labels)**2)\n",
    "            \n",
    "        epoch_loss /= len(data_loader[phase].dataset)\n",
    "        logs[prefix + 'loss'] = epoch_loss\n",
    "        logs[prefix + 'accuracy'] = epoch_corrects.float() / len(data_loader[phase].dataset)\n",
    "        logs[prefix + 'mse'] = epoch_se.item() / len(data_loader[phase].dataset)\n",
    "\n",
    "        if phase == 'valid': \n",
    "            if epoch_loss < current_valid_loss:\n",
    "                save_model(model)\n",
    "                current_valid_loss = epoch_loss\n",
    "                n_without_changing=0\n",
    "            else:\n",
    "                n_without_changing+=1\n",
    "            \n",
    "    liveloss.update(logs)\n",
    "    liveloss.draw()\n",
    "    \n",
    "    # early stopping criterion\n",
    "    if n_without_changing == 5:\n",
    "        break"
   ]
  },
  {
   "cell_type": "code",
   "execution_count": null,
   "metadata": {},
   "outputs": [],
   "source": []
  }
 ],
 "metadata": {
  "kernelspec": {
   "display_name": "Python 3",
   "language": "python",
   "name": "python3"
  },
  "language_info": {
   "codemirror_mode": {
    "name": "ipython",
    "version": 3
   },
   "file_extension": ".py",
   "mimetype": "text/x-python",
   "name": "python",
   "nbconvert_exporter": "python",
   "pygments_lexer": "ipython3",
   "version": "3.7.4"
  },
  "pycharm": {
   "stem_cell": {
    "cell_type": "raw",
    "metadata": {
     "collapsed": false
    },
    "source": []
   }
  }
 },
 "nbformat": 4,
 "nbformat_minor": 4
}
